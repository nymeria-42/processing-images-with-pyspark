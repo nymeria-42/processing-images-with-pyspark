{
  "nbformat": 4,
  "nbformat_minor": 0,
  "metadata": {
    "colab": {
      "provenance": [],
      "collapsed_sections": [
        "9JtUirj1MM0b"
      ]
    },
    "kernelspec": {
      "name": "python3",
      "display_name": "Python 3"
    },
    "language_info": {
      "name": "python"
    }
  },
  "cells": [
    {
      "cell_type": "markdown",
      "source": [
        "## Baixando dataset do kaggle"
      ],
      "metadata": {
        "id": "9JtUirj1MM0b"
      }
    },
    {
      "cell_type": "code",
      "source": [
        "! pip install -q kaggle\n",
        "from google.colab import files\n",
        "files.upload()"
      ],
      "metadata": {
        "colab": {
          "base_uri": "https://localhost:8080/",
          "height": 92
        },
        "id": "1JxUfH3WgF-V",
        "outputId": "e1ed2aee-cbc1-4369-a055-8ff1dc99a2ec"
      },
      "execution_count": null,
      "outputs": [
        {
          "output_type": "display_data",
          "data": {
            "text/plain": [
              "<IPython.core.display.HTML object>"
            ],
            "text/html": [
              "\n",
              "     <input type=\"file\" id=\"files-2c372f03-df91-4c0d-b9dd-1290db381e13\" name=\"files[]\" multiple disabled\n",
              "        style=\"border:none\" />\n",
              "     <output id=\"result-2c372f03-df91-4c0d-b9dd-1290db381e13\">\n",
              "      Upload widget is only available when the cell has been executed in the\n",
              "      current browser session. Please rerun this cell to enable.\n",
              "      </output>\n",
              "      <script>// Copyright 2017 Google LLC\n",
              "//\n",
              "// Licensed under the Apache License, Version 2.0 (the \"License\");\n",
              "// you may not use this file except in compliance with the License.\n",
              "// You may obtain a copy of the License at\n",
              "//\n",
              "//      http://www.apache.org/licenses/LICENSE-2.0\n",
              "//\n",
              "// Unless required by applicable law or agreed to in writing, software\n",
              "// distributed under the License is distributed on an \"AS IS\" BASIS,\n",
              "// WITHOUT WARRANTIES OR CONDITIONS OF ANY KIND, either express or implied.\n",
              "// See the License for the specific language governing permissions and\n",
              "// limitations under the License.\n",
              "\n",
              "/**\n",
              " * @fileoverview Helpers for google.colab Python module.\n",
              " */\n",
              "(function(scope) {\n",
              "function span(text, styleAttributes = {}) {\n",
              "  const element = document.createElement('span');\n",
              "  element.textContent = text;\n",
              "  for (const key of Object.keys(styleAttributes)) {\n",
              "    element.style[key] = styleAttributes[key];\n",
              "  }\n",
              "  return element;\n",
              "}\n",
              "\n",
              "// Max number of bytes which will be uploaded at a time.\n",
              "const MAX_PAYLOAD_SIZE = 100 * 1024;\n",
              "\n",
              "function _uploadFiles(inputId, outputId) {\n",
              "  const steps = uploadFilesStep(inputId, outputId);\n",
              "  const outputElement = document.getElementById(outputId);\n",
              "  // Cache steps on the outputElement to make it available for the next call\n",
              "  // to uploadFilesContinue from Python.\n",
              "  outputElement.steps = steps;\n",
              "\n",
              "  return _uploadFilesContinue(outputId);\n",
              "}\n",
              "\n",
              "// This is roughly an async generator (not supported in the browser yet),\n",
              "// where there are multiple asynchronous steps and the Python side is going\n",
              "// to poll for completion of each step.\n",
              "// This uses a Promise to block the python side on completion of each step,\n",
              "// then passes the result of the previous step as the input to the next step.\n",
              "function _uploadFilesContinue(outputId) {\n",
              "  const outputElement = document.getElementById(outputId);\n",
              "  const steps = outputElement.steps;\n",
              "\n",
              "  const next = steps.next(outputElement.lastPromiseValue);\n",
              "  return Promise.resolve(next.value.promise).then((value) => {\n",
              "    // Cache the last promise value to make it available to the next\n",
              "    // step of the generator.\n",
              "    outputElement.lastPromiseValue = value;\n",
              "    return next.value.response;\n",
              "  });\n",
              "}\n",
              "\n",
              "/**\n",
              " * Generator function which is called between each async step of the upload\n",
              " * process.\n",
              " * @param {string} inputId Element ID of the input file picker element.\n",
              " * @param {string} outputId Element ID of the output display.\n",
              " * @return {!Iterable<!Object>} Iterable of next steps.\n",
              " */\n",
              "function* uploadFilesStep(inputId, outputId) {\n",
              "  const inputElement = document.getElementById(inputId);\n",
              "  inputElement.disabled = false;\n",
              "\n",
              "  const outputElement = document.getElementById(outputId);\n",
              "  outputElement.innerHTML = '';\n",
              "\n",
              "  const pickedPromise = new Promise((resolve) => {\n",
              "    inputElement.addEventListener('change', (e) => {\n",
              "      resolve(e.target.files);\n",
              "    });\n",
              "  });\n",
              "\n",
              "  const cancel = document.createElement('button');\n",
              "  inputElement.parentElement.appendChild(cancel);\n",
              "  cancel.textContent = 'Cancel upload';\n",
              "  const cancelPromise = new Promise((resolve) => {\n",
              "    cancel.onclick = () => {\n",
              "      resolve(null);\n",
              "    };\n",
              "  });\n",
              "\n",
              "  // Wait for the user to pick the files.\n",
              "  const files = yield {\n",
              "    promise: Promise.race([pickedPromise, cancelPromise]),\n",
              "    response: {\n",
              "      action: 'starting',\n",
              "    }\n",
              "  };\n",
              "\n",
              "  cancel.remove();\n",
              "\n",
              "  // Disable the input element since further picks are not allowed.\n",
              "  inputElement.disabled = true;\n",
              "\n",
              "  if (!files) {\n",
              "    return {\n",
              "      response: {\n",
              "        action: 'complete',\n",
              "      }\n",
              "    };\n",
              "  }\n",
              "\n",
              "  for (const file of files) {\n",
              "    const li = document.createElement('li');\n",
              "    li.append(span(file.name, {fontWeight: 'bold'}));\n",
              "    li.append(span(\n",
              "        `(${file.type || 'n/a'}) - ${file.size} bytes, ` +\n",
              "        `last modified: ${\n",
              "            file.lastModifiedDate ? file.lastModifiedDate.toLocaleDateString() :\n",
              "                                    'n/a'} - `));\n",
              "    const percent = span('0% done');\n",
              "    li.appendChild(percent);\n",
              "\n",
              "    outputElement.appendChild(li);\n",
              "\n",
              "    const fileDataPromise = new Promise((resolve) => {\n",
              "      const reader = new FileReader();\n",
              "      reader.onload = (e) => {\n",
              "        resolve(e.target.result);\n",
              "      };\n",
              "      reader.readAsArrayBuffer(file);\n",
              "    });\n",
              "    // Wait for the data to be ready.\n",
              "    let fileData = yield {\n",
              "      promise: fileDataPromise,\n",
              "      response: {\n",
              "        action: 'continue',\n",
              "      }\n",
              "    };\n",
              "\n",
              "    // Use a chunked sending to avoid message size limits. See b/62115660.\n",
              "    let position = 0;\n",
              "    do {\n",
              "      const length = Math.min(fileData.byteLength - position, MAX_PAYLOAD_SIZE);\n",
              "      const chunk = new Uint8Array(fileData, position, length);\n",
              "      position += length;\n",
              "\n",
              "      const base64 = btoa(String.fromCharCode.apply(null, chunk));\n",
              "      yield {\n",
              "        response: {\n",
              "          action: 'append',\n",
              "          file: file.name,\n",
              "          data: base64,\n",
              "        },\n",
              "      };\n",
              "\n",
              "      let percentDone = fileData.byteLength === 0 ?\n",
              "          100 :\n",
              "          Math.round((position / fileData.byteLength) * 100);\n",
              "      percent.textContent = `${percentDone}% done`;\n",
              "\n",
              "    } while (position < fileData.byteLength);\n",
              "  }\n",
              "\n",
              "  // All done.\n",
              "  yield {\n",
              "    response: {\n",
              "      action: 'complete',\n",
              "    }\n",
              "  };\n",
              "}\n",
              "\n",
              "scope.google = scope.google || {};\n",
              "scope.google.colab = scope.google.colab || {};\n",
              "scope.google.colab._files = {\n",
              "  _uploadFiles,\n",
              "  _uploadFilesContinue,\n",
              "};\n",
              "})(self);\n",
              "</script> "
            ]
          },
          "metadata": {}
        },
        {
          "output_type": "stream",
          "name": "stdout",
          "text": [
            "Saving kaggle.json to kaggle.json\n"
          ]
        },
        {
          "output_type": "execute_result",
          "data": {
            "text/plain": [
              "{'kaggle.json': b'{\"username\":\"nymeria42\",\"key\":\"de8d2d9536abc1eb868da72e1603f28d\"}'}"
            ]
          },
          "metadata": {},
          "execution_count": 1
        }
      ]
    },
    {
      "cell_type": "code",
      "source": [
        "! mkdir ~/.kaggle\n",
        "! cp kaggle.json ~/.kaggle/\n",
        "! chmod 600 ~/.kaggle/kaggle.json\n",
        "! kaggle datasets download -d tolgadincer/labeled-chest-xray-images\n",
        "! mkdir labeled-chest-xray-images\n",
        "! unzip -q labeled-chest-xray-images -d labeled-chest-xray-images"
      ],
      "metadata": {
        "colab": {
          "base_uri": "https://localhost:8080/"
        },
        "id": "zacorSUOgHnq",
        "outputId": "2c6a0211-f350-4854-f20c-fd625522f8f7"
      },
      "execution_count": null,
      "outputs": [
        {
          "output_type": "stream",
          "name": "stdout",
          "text": [
            "Downloading labeled-chest-xray-images.zip to /content\n",
            " 99% 1.16G/1.17G [00:12<00:00, 132MB/s]\n",
            "100% 1.17G/1.17G [00:12<00:00, 96.9MB/s]\n"
          ]
        }
      ]
    },
    {
      "cell_type": "code",
      "source": [
        "import os\n",
        "import random\n",
        "import numpy as np\n",
        "import io\n",
        "\n",
        "path = \"/content/labeled-chest-xray-images/chest_xray\"\n",
        "path_train = path + \"/train\"\n",
        "path_test = path + \"/test\""
      ],
      "metadata": {
        "id": "SIJyR4mpiWXb"
      },
      "execution_count": null,
      "outputs": []
    },
    {
      "cell_type": "markdown",
      "source": [
        "## Pré-processamento dos dados de entrada"
      ],
      "metadata": {
        "id": "LwRbMGewMTUV"
      }
    },
    {
      "cell_type": "code",
      "source": [
        "from tensorflow.keras.applications import ResNet50\n",
        "from tensorflow.keras.preprocessing.image import ImageDataGenerator\n",
        "from tensorflow.keras.preprocessing.image import img_to_array, load_img\n",
        "from tensorflow.keras.models import Sequential\n",
        "from tensorflow.keras.layers import Dense, Flatten\n",
        "from sklearn.pipeline import Pipeline\n",
        "from sklearn.base import BaseEstimator, TransformerMixin\n",
        "from sklearn.linear_model import LogisticRegression\n",
        "from sklearn.model_selection import train_test_split\n",
        "from sklearn.preprocessing import LabelEncoder\n",
        "import numpy as np\n",
        "import tensorflow as tf"
      ],
      "metadata": {
        "id": "gnUvDI73OdWu"
      },
      "execution_count": null,
      "outputs": []
    },
    {
      "cell_type": "code",
      "source": [
        "train_files = []\n",
        "for root, dirs, files in os.walk(path_train):\n",
        "    for file in files:\n",
        "        if file.endswith(\".jpeg\"):\n",
        "            train_files.append(os.path.join(root, file))\n",
        "\n",
        "train_labels = []\n",
        "for file_path in train_files:\n",
        "    folder_name = os.path.basename(os.path.dirname(file_path))\n",
        "    train_labels.append(folder_name)\n",
        "\n",
        "train_images = []\n",
        "for file_path in train_files:\n",
        "    with open(file_path, 'rb') as f:\n",
        "      image_bytes = f.read()\n",
        "    train_images.append(io.BytesIO(image_bytes))\n",
        "\n",
        "train_labels = np.array(train_labels)\n",
        "\n",
        "train_data = list(zip(train_images, train_labels))\n",
        "\n",
        "random.shuffle(train_data)\n",
        "\n",
        "images_train, labels_train = zip(*train_data)"
      ],
      "metadata": {
        "id": "4FbgGtH-hrGb"
      },
      "execution_count": null,
      "outputs": []
    },
    {
      "cell_type": "code",
      "source": [
        "test_files = []\n",
        "for root, dirs, files in os.walk(path_test):\n",
        "    for file in files:\n",
        "        if file.endswith(\".jpeg\"):\n",
        "            test_files.append(os.path.join(root, file))\n",
        "\n",
        "test_labels = []\n",
        "for file_path in test_files:\n",
        "    folder_name = os.path.basename(os.path.dirname(file_path))\n",
        "    test_labels.append(folder_name)\n",
        "\n",
        "test_images = []\n",
        "for file_path in test_files:\n",
        "    with open(file_path, 'rb') as f:\n",
        "        image_bytes = f.read()\n",
        "    test_images.append(io.BytesIO(image_bytes))\n",
        "\n",
        "test_labels = np.array(test_labels)\n",
        "\n",
        "test_data = list(zip(test_images, test_labels))\n",
        "\n",
        "random.shuffle(test_data)\n",
        "\n",
        "images_test, labels_test = zip(*test_data)"
      ],
      "metadata": {
        "id": "bjvb9nN9kUPY"
      },
      "execution_count": null,
      "outputs": []
    },
    {
      "cell_type": "markdown",
      "source": [
        "## Treinamento do modelo"
      ],
      "metadata": {
        "id": "FTPdvzvHMWzR"
      }
    },
    {
      "cell_type": "code",
      "execution_count": null,
      "metadata": {
        "id": "0cgbCpFggAK-"
      },
      "outputs": [],
      "source": [
        "class KerasFeaturizer(BaseEstimator, TransformerMixin):\n",
        "    def __init__(self, model):\n",
        "        self.model = model\n",
        "\n",
        "    def fit(self, X, y=None):\n",
        "        return self\n",
        "\n",
        "    def _predict_single_image(self, img):\n",
        "        img = np.expand_dims(img, axis=0)\n",
        "        return self.model.predict(img, verbose=0).flatten()\n",
        "\n",
        "    def transform(self, X):\n",
        "        features = []\n",
        "        for bytes_io in X:\n",
        "            img = load_img(bytes_io, target_size=(64, 64))\n",
        "            img = img_to_array(img)\n",
        "            img = img / 255.0  # Normalize pixel values between 0 and 1\n",
        "            feature = self._predict_single_image(img)\n",
        "            features.append(feature)\n",
        "        return np.array(features)\n",
        "\n",
        "base_model = ResNet50(weights='imagenet', include_top=False, input_shape=(64, 64, 3))\n",
        "\n",
        "keras_featurizer = KerasFeaturizer(base_model)\n",
        "\n",
        "logistic_regression = LogisticRegression(max_iter=10000, C=1/0.03, l1_ratio=0.5, penalty='elasticnet', solver='saga')\n",
        "\n",
        "label_encoder = LabelEncoder()\n",
        "\n",
        "pipeline = Pipeline([\n",
        "    ('featurizer', keras_featurizer),\n",
        "    ('logistic_regression', logistic_regression)\n",
        "])\n",
        "\n",
        "X_train, X_test, y_train, y_test = images_train, images_test, labels_train, labels_test\n",
        "y_train_encoded = label_encoder.fit_transform(y_train)\n",
        "pipeline.fit(X_train, y_train_encoded)\n"
      ]
    },
    {
      "cell_type": "markdown",
      "source": [
        "## Avaliação"
      ],
      "metadata": {
        "id": "ciZ5beMOMd7y"
      }
    },
    {
      "cell_type": "code",
      "source": [
        "score = pipeline.score(X_test, label_encoder.transform(y_test))\n",
        "predictions = pipeline.predict(X_test)"
      ],
      "metadata": {
        "id": "bHMvILmQMb27"
      },
      "execution_count": null,
      "outputs": []
    },
    {
      "cell_type": "code",
      "source": [
        "score"
      ],
      "metadata": {
        "id": "CDpj850fxLMx",
        "colab": {
          "base_uri": "https://localhost:8080/"
        },
        "outputId": "515b4694-0f7a-4374-cbbe-63c3c27131e5"
      },
      "execution_count": null,
      "outputs": [
        {
          "output_type": "execute_result",
          "data": {
            "text/plain": [
              "0.8205128205128205"
            ]
          },
          "metadata": {},
          "execution_count": 20
        }
      ]
    },
    {
      "cell_type": "code",
      "source": [
        "from sklearn.metrics import confusion_matrix\n",
        "confusion_matrix(label_encoder.transform(y_test), predictions)"
      ],
      "metadata": {
        "id": "ZMJmCVhO-GWk",
        "colab": {
          "base_uri": "https://localhost:8080/"
        },
        "outputId": "50cdbfdf-e9bf-4d21-84fd-801a3c81c456"
      },
      "execution_count": null,
      "outputs": [
        {
          "output_type": "execute_result",
          "data": {
            "text/plain": [
              "array([[124, 110],\n",
              "       [  8, 382]])"
            ]
          },
          "metadata": {},
          "execution_count": 13
        }
      ]
    }
  ]
}